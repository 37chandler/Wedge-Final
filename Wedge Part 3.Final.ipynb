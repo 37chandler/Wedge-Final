{
 "cells": [
  {
   "cell_type": "raw",
   "id": "183284ed",
   "metadata": {},
   "source": [
    "#### wedge part 3 ####"
   ]
  },
  {
   "cell_type": "code",
   "execution_count": 12,
   "id": "1b6f1933",
   "metadata": {},
   "outputs": [],
   "source": [
    "import sqlite3\n",
    "import os\n",
    "import pandas as pd"
   ]
  },
  {
   "cell_type": "code",
   "execution_count": 13,
   "id": "dc29b431",
   "metadata": {},
   "outputs": [],
   "source": [
    "## creating the data base ###\n",
    "db1 = sqlite3.connect(\"Wedge3_db.db\")\n"
   ]
  },
  {
   "cell_type": "code",
   "execution_count": 14,
   "id": "7b7b61f3",
   "metadata": {},
   "outputs": [],
   "source": [
    "# cursor to interact with database \n",
    "\n",
    "cur1 = db1.cursor()\n"
   ]
  },
  {
   "cell_type": "code",
   "execution_count": 15,
   "id": "fe6d59be",
   "metadata": {},
   "outputs": [
    {
     "data": {
      "text/plain": [
       "<sqlite3.Cursor at 0x2229bb50b90>"
      ]
     },
     "execution_count": 15,
     "metadata": {},
     "output_type": "execute_result"
    }
   ],
   "source": [
    "#### Creating the table ####\n",
    "# tables with matching columns for sales by date hour\n",
    "\n",
    "cur1.execute('''DROP TABLE IF EXISTS sales_by_date_hour''')\n",
    "cur1.execute(''' CREATE TABLE sales_by_date_hour (\n",
    "    date DATE,\n",
    "    hour INTEGER,\n",
    "    total_spend FLOAT,\n",
    "    num_trans INTEGER,\n",
    "    items INTEGER)''')"
   ]
  },
  {
   "cell_type": "code",
   "execution_count": 16,
   "id": "6effc429",
   "metadata": {},
   "outputs": [
    {
     "data": {
      "text/plain": [
       "<sqlite3.Cursor at 0x2229bb50b90>"
      ]
     },
     "execution_count": 16,
     "metadata": {},
     "output_type": "execute_result"
    }
   ],
   "source": [
    "## table for sales by owner year month ##\n",
    "\n",
    "cur1.execute(''' DROP TABLE IF EXISTS sales_by_owner_year_month''')\n",
    "cur1.execute(''' CREATE TABLE sales_by_owner_year_month (\n",
    "    card_no FLOAT,\n",
    "    year INTEGER,\n",
    "    month INTEGER,\n",
    "    sales FLOAT,\n",
    "    transactions INTEGER,\n",
    "    items INTEGER)''')\n"
   ]
  },
  {
   "cell_type": "code",
   "execution_count": 17,
   "id": "7bf453a6",
   "metadata": {},
   "outputs": [
    {
     "data": {
      "text/plain": [
       "<sqlite3.Cursor at 0x2229bb50b90>"
      ]
     },
     "execution_count": 17,
     "metadata": {},
     "output_type": "execute_result"
    }
   ],
   "source": [
    "### table for sales by product description ###\n",
    "\n",
    "cur1.execute('''DROP TABLE IF EXISTS sales_by_product_description''')\n",
    "cur1.execute('''CREATE TABLE sales_by_product_description(\n",
    "    upc STRING,\n",
    "    description STRING,\n",
    "    dept_number FLOAT,\n",
    "    dept_name STRING,\n",
    "    year INTEGER,\n",
    "    month INTEGER,\n",
    "    sales FLOAT,\n",
    "    transactions INTEGER,\n",
    "    items INTEGER)''')"
   ]
  },
  {
   "cell_type": "code",
   "execution_count": 18,
   "id": "d26c974c",
   "metadata": {},
   "outputs": [],
   "source": [
    "# commiting the tables into the data base\n",
    "\n",
    "db1.commit()"
   ]
  },
  {
   "cell_type": "code",
   "execution_count": 19,
   "id": "9d7bcee6",
   "metadata": {},
   "outputs": [],
   "source": [
    "##### READING IN THE FILES TO FILL IN THE TABLES CREATED ####\n",
    "## filling sales by date hour with date hour csv\n",
    "\n",
    "\n",
    "with open(\"Wedge.sales by date hour.csv\", 'r') as infile :\n",
    "    next(infile)\n",
    "    \n",
    "    for line in infile :\n",
    "        line = line.strip().split(\",\")\n",
    "        \n",
    "        cur1.execute('''\n",
    "        INSERT INTO sales_by_date_hour(date,hour,total_spend,num_trans,items)VALUES(?,?,?,?,?)''',line)\n",
    "\n",
    "\n"
   ]
  },
  {
   "cell_type": "code",
   "execution_count": 20,
   "id": "529967cf",
   "metadata": {},
   "outputs": [],
   "source": [
    "owner2 = []\n",
    "\n",
    "with open(\"Wedge.sale by owner year month.csv\", 'r') as infile :\n",
    "    next(infile)\n",
    "    \n",
    "    for line in infile :\n",
    "        line = line.strip().split(\",\")\n",
    "        owner2.append(line)\n",
    "        \n",
    "        cur1.execute('''\n",
    "        INSERT INTO sales_by_owner_year_month (card_no, year, month, sales, transactions, items) VALUES(?,?,?,?,?,?)''',line)"
   ]
  },
  {
   "cell_type": "code",
   "execution_count": 21,
   "id": "f4a0d21c",
   "metadata": {},
   "outputs": [],
   "source": [
    "owner3 = []\n",
    "\n",
    "with open(\"Wedge_sales by product description.csv\", 'r') as infile :\n",
    "    next(infile)\n",
    "    \n",
    "    for line in infile :\n",
    "        line = line.strip().split(\",\")\n",
    "        owner3.append(line)\n",
    "        \n",
    "        cur1.execute(''' \n",
    "        INSERT INTO sales_by_product_description(upc,description,dept_number,dept_name, year, month, sales,transactions,items)\n",
    "        VALUES(?,?,?,?,?,?,?,?,?)''', line)"
   ]
  },
  {
   "cell_type": "code",
   "execution_count": 22,
   "id": "35403350",
   "metadata": {},
   "outputs": [],
   "source": [
    "db1.commit()"
   ]
  },
  {
   "cell_type": "code",
   "execution_count": null,
   "id": "5239e193",
   "metadata": {},
   "outputs": [],
   "source": [
    "## done ##"
   ]
  },
  {
   "cell_type": "code",
   "execution_count": null,
   "id": "62bec3c4",
   "metadata": {},
   "outputs": [],
   "source": []
  },
  {
   "cell_type": "code",
   "execution_count": null,
   "id": "87d26901",
   "metadata": {},
   "outputs": [],
   "source": []
  },
  {
   "cell_type": "code",
   "execution_count": null,
   "id": "201587d0",
   "metadata": {},
   "outputs": [],
   "source": [
    "len(file.readlines(owner2))"
   ]
  }
 ],
 "metadata": {
  "kernelspec": {
   "display_name": "Python 3 (ipykernel)",
   "language": "python",
   "name": "python3"
  },
  "language_info": {
   "codemirror_mode": {
    "name": "ipython",
    "version": 3
   },
   "file_extension": ".py",
   "mimetype": "text/x-python",
   "name": "python",
   "nbconvert_exporter": "python",
   "pygments_lexer": "ipython3",
   "version": "3.9.12"
  }
 },
 "nbformat": 4,
 "nbformat_minor": 5
}
