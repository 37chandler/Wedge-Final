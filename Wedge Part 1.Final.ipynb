{
 "cells": [
  {
   "cell_type": "code",
   "execution_count": 1,
   "id": "5b01afdd",
   "metadata": {},
   "outputs": [],
   "source": [
    "import os\n",
    "import re\n",
    "import datetime \n",
    "\n",
    "import pandas as pd\n",
    "import numpy as np\n",
    "import matplotlib.pyplot as plt\n",
    "import pandas_gbq\n",
    "import janitor\n",
    "\n",
    "# Do our imports for the code\n",
    "from google.cloud import bigquery\n",
    "from google.oauth2 import service_account\n"
   ]
  },
  {
   "cell_type": "code",
   "execution_count": 12,
   "id": "df04e9ef",
   "metadata": {},
   "outputs": [
    {
     "name": "stdout",
     "output_type": "stream",
     "text": [
      "matts-project-363722:Matts_data2\n",
      "matts-project-363722:wedge_p\n"
     ]
    }
   ],
   "source": [
    "# These first two values will be different on your machine. \n",
    "service_path = \"\\\\Users\\Epicm\\Desktop\\MSBA_F22\\ADA\\holder\\\\\"\n",
    "service_file = 'matts-project-363722-4d1e4561e192.json' # change this to your authentication information  \n",
    "gbq_proj_id = 'matts-project-363722' # 'msba-wd' # change this to your project. \n",
    "\n",
    "# And this should stay the same. \n",
    "private_key =service_path + service_file\n",
    "\n",
    "# Now we pass in our credentials so that Python has permission to access our project.\n",
    "credentials = service_account.Credentials.from_service_account_file(service_path + service_file)\n",
    "\n",
    "# And finally we establish our connection\n",
    "client = bigquery.Client(credentials = credentials, project=gbq_proj_id)\n",
    "\n",
    "for item in client.list_datasets() : \n",
    "    print(item.full_dataset_id)\n"
   ]
  },
  {
   "cell_type": "code",
   "execution_count": 248,
   "id": "1fc804b1",
   "metadata": {},
   "outputs": [
    {
     "name": "stdout",
     "output_type": "stream",
     "text": [
      "<google.cloud.bigquery.table.TableListItem object at 0x000002C08FC94B80>\n",
      "<google.cloud.bigquery.table.TableListItem object at 0x000002C080137EE0>\n",
      "<google.cloud.bigquery.table.TableListItem object at 0x000002C08AF43940>\n",
      "<google.cloud.bigquery.table.TableListItem object at 0x000002C09DC2CFD0>\n",
      "<google.cloud.bigquery.table.TableListItem object at 0x000002C091856C40>\n",
      "<google.cloud.bigquery.table.TableListItem object at 0x000002C0D8429160>\n",
      "<google.cloud.bigquery.table.TableListItem object at 0x000002C0918561C0>\n",
      "<google.cloud.bigquery.table.TableListItem object at 0x000002C09DC2CFD0>\n",
      "<google.cloud.bigquery.table.TableListItem object at 0x000002C0801012E0>\n",
      "<google.cloud.bigquery.table.TableListItem object at 0x000002C080137EE0>\n",
      "<google.cloud.bigquery.table.TableListItem object at 0x000002C081F7C730>\n",
      "<google.cloud.bigquery.table.TableListItem object at 0x000002C081FE1220>\n",
      "<google.cloud.bigquery.table.TableListItem object at 0x000002C081FE15E0>\n",
      "<google.cloud.bigquery.table.TableListItem object at 0x000002C081FE13D0>\n",
      "<google.cloud.bigquery.table.TableListItem object at 0x000002C0CC0113A0>\n",
      "<google.cloud.bigquery.table.TableListItem object at 0x000002C0CC0112E0>\n",
      "<google.cloud.bigquery.table.TableListItem object at 0x000002C0E3FC1CD0>\n",
      "<google.cloud.bigquery.table.TableListItem object at 0x000002C0E3FC1AF0>\n",
      "<google.cloud.bigquery.table.TableListItem object at 0x000002C0E3FC1BE0>\n",
      "<google.cloud.bigquery.table.TableListItem object at 0x000002C0E3FC1E20>\n",
      "<google.cloud.bigquery.table.TableListItem object at 0x000002C0E3FC1910>\n",
      "<google.cloud.bigquery.table.TableListItem object at 0x000002C0E3FC16A0>\n",
      "<google.cloud.bigquery.table.TableListItem object at 0x000002C0E3FC1760>\n",
      "<google.cloud.bigquery.table.TableListItem object at 0x000002C0E3FC1FA0>\n",
      "<google.cloud.bigquery.table.TableListItem object at 0x000002C08C293BB0>\n",
      "<google.cloud.bigquery.table.TableListItem object at 0x000002C08C293A30>\n",
      "<google.cloud.bigquery.table.TableListItem object at 0x000002C08C293A60>\n",
      "<google.cloud.bigquery.table.TableListItem object at 0x000002C08C293D60>\n",
      "<google.cloud.bigquery.table.TableListItem object at 0x000002C08C2932E0>\n",
      "<google.cloud.bigquery.table.TableListItem object at 0x000002C08C2935B0>\n",
      "<google.cloud.bigquery.table.TableListItem object at 0x000002C08C293310>\n",
      "<google.cloud.bigquery.table.TableListItem object at 0x000002C08C293640>\n",
      "<google.cloud.bigquery.table.TableListItem object at 0x000002C08C293790>\n",
      "<google.cloud.bigquery.table.TableListItem object at 0x000002C08C293F40>\n",
      "<google.cloud.bigquery.table.TableListItem object at 0x000002C08C293E20>\n",
      "<google.cloud.bigquery.table.TableListItem object at 0x000002C09DC280A0>\n",
      "<google.cloud.bigquery.table.TableListItem object at 0x000002C09DC28A90>\n",
      "<google.cloud.bigquery.table.TableListItem object at 0x000002C08C2931C0>\n",
      "<google.cloud.bigquery.table.TableListItem object at 0x000002C08C293790>\n",
      "<google.cloud.bigquery.table.TableListItem object at 0x000002C08C293640>\n",
      "<google.cloud.bigquery.table.TableListItem object at 0x000002C08C293310>\n",
      "<google.cloud.bigquery.table.TableListItem object at 0x000002C08C2935B0>\n",
      "<google.cloud.bigquery.table.TableListItem object at 0x000002C08C2932E0>\n",
      "<google.cloud.bigquery.table.TableListItem object at 0x000002C08C293D60>\n",
      "<google.cloud.bigquery.table.TableListItem object at 0x000002C08C293A60>\n",
      "<google.cloud.bigquery.table.TableListItem object at 0x000002C08C293A30>\n",
      "<google.cloud.bigquery.table.TableListItem object at 0x000002C08C293BB0>\n",
      "<google.cloud.bigquery.table.TableListItem object at 0x000002C08C2932B0>\n",
      "<google.cloud.bigquery.table.TableListItem object at 0x000002C0E3FC1760>\n",
      "<google.cloud.bigquery.table.TableListItem object at 0x000002C0E3FC16A0>\n"
     ]
    }
   ],
   "source": [
    "## do this for every file in the clean files \n",
    "table_name = 'transArchive_201701_clean'\n",
    "\n",
    "dataset_name = 'wedge_p'\n",
    "\n",
    "table_list = client.list_tables(dataset_name)\n",
    "\n",
    "for table in table_list:\n",
    "    \n",
    "\n",
    "    print(table)\n"
   ]
  },
  {
   "cell_type": "code",
   "execution_count": 249,
   "id": "f73bced8",
   "metadata": {},
   "outputs": [
    {
     "name": "stdout",
     "output_type": "stream",
     "text": [
      "matts-project-363722.wedge_p.transArchive_201701_clean\n",
      "Deleted matts-project-363722.wedge_p.transArchive_201701_clean.\n"
     ]
    }
   ],
   "source": [
    "table_id = \".\".join([gbq_proj_id,dataset_name,table_name])\n",
    "\n",
    "print(table_id)\n",
    "\n",
    "client.delete_table(table_id, not_found_ok=True)\n",
    "\n",
    "print(f\"Deleted {table_id}.\")\n"
   ]
  },
  {
   "cell_type": "code",
   "execution_count": 250,
   "id": "bdfa085c",
   "metadata": {},
   "outputs": [],
   "source": [
    "delta = pd.read_csv(r\"C:\\Users\\Epicm\\Desktop\\MSBA_F22\\ADA\\Wedge Project\\Python\\clean-files\\transArchive_201701_clean.csv\", low_memory=False)\n",
    "\n",
    "delta = delta.clean_names()\n",
    "\n",
    "db['display']= db['display'].astype(str)\n"
   ]
  },
  {
   "cell_type": "code",
   "execution_count": 251,
   "id": "fd9c26fd",
   "metadata": {},
   "outputs": [
    {
     "name": "stderr",
     "output_type": "stream",
     "text": [
      "100%|██████████| 1/1 [00:00<?, ?it/s]\n"
     ]
    }
   ],
   "source": [
    "pandas_gbq.to_gbq(delta, table_id, project_id = gbq_proj_id, if_exists='replace')"
   ]
  },
  {
   "cell_type": "code",
   "execution_count": null,
   "id": "fca23c6e",
   "metadata": {},
   "outputs": [],
   "source": []
  },
  {
   "cell_type": "code",
   "execution_count": null,
   "id": "c53d2b90",
   "metadata": {},
   "outputs": [],
   "source": []
  },
  {
   "cell_type": "code",
   "execution_count": null,
   "id": "3bb3e543",
   "metadata": {},
   "outputs": [],
   "source": [
    "CAST(DISPLAY AS STRING)"
   ]
  },
  {
   "cell_type": "code",
   "execution_count": null,
   "id": "d591c46b",
   "metadata": {},
   "outputs": [],
   "source": []
  },
  {
   "cell_type": "code",
   "execution_count": null,
   "id": "58d7d28f",
   "metadata": {},
   "outputs": [],
   "source": []
  },
  {
   "cell_type": "code",
   "execution_count": null,
   "id": "0286466b",
   "metadata": {},
   "outputs": [],
   "source": []
  },
  {
   "cell_type": "code",
   "execution_count": null,
   "id": "5acd0eef",
   "metadata": {},
   "outputs": [],
   "source": []
  },
  {
   "cell_type": "code",
   "execution_count": null,
   "id": "f2c05a0f",
   "metadata": {},
   "outputs": [],
   "source": []
  },
  {
   "cell_type": "code",
   "execution_count": null,
   "id": "f3e1d5ff",
   "metadata": {},
   "outputs": [],
   "source": []
  },
  {
   "cell_type": "code",
   "execution_count": null,
   "id": "d97548ff",
   "metadata": {},
   "outputs": [],
   "source": []
  }
 ],
 "metadata": {
  "kernelspec": {
   "display_name": "Python 3 (ipykernel)",
   "language": "python",
   "name": "python3"
  },
  "language_info": {
   "codemirror_mode": {
    "name": "ipython",
    "version": 3
   },
   "file_extension": ".py",
   "mimetype": "text/x-python",
   "name": "python",
   "nbconvert_exporter": "python",
   "pygments_lexer": "ipython3",
   "version": "3.9.12"
  }
 },
 "nbformat": 4,
 "nbformat_minor": 5
}
