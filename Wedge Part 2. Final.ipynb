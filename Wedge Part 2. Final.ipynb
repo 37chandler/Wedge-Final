{
 "cells": [
  {
   "cell_type": "code",
   "execution_count": 1,
   "id": "15f076a3",
   "metadata": {},
   "outputs": [],
   "source": [
    "import os\n",
    "import re\n",
    "import datetime\n",
    "import random\n",
    "\n",
    "import pandas as pd\n",
    "import numpy as np\n",
    "import matplotlib.pyplot as plot\n",
    "import janitor\n",
    "import pandas_gbq\n",
    "\n",
    "from random import sample \n",
    "\n",
    "from google.cloud import bigquery\n",
    "from google.oauth2 import service_account"
   ]
  },
  {
   "cell_type": "code",
   "execution_count": 2,
   "id": "187ab0e9",
   "metadata": {},
   "outputs": [],
   "source": [
    "### GBQ connection ###\n",
    "#\\\\Users\\Epicm\\Desktop\\MSBA_F22\\ADA\\holder\\\\\n",
    "\n",
    "\n",
    "service_path = \"\\\\Users\\Epicm\\Desktop\\MSBA_F22\\ADA\\holder\\\\\"\n",
    "\n",
    "## when task 1b is done replace with my information \n",
    "service_file = 'matts-project-363722-4d1e4561e192.json'\n",
    "gbq_proj_id = 'matts-project-363722'\n",
    "\n",
    "private_key = service_path + service_file\n",
    "\n",
    "dataset_name = 'wedge_p'\n",
    "\n"
   ]
  },
  {
   "cell_type": "code",
   "execution_count": 3,
   "id": "9ac5fce4",
   "metadata": {},
   "outputs": [],
   "source": [
    "\n",
    "\n",
    "credentials = service_account.Credentials.from_service_account_file(service_path + service_file)\n",
    "\n",
    "\n"
   ]
  },
  {
   "cell_type": "code",
   "execution_count": 4,
   "id": "47a31841",
   "metadata": {},
   "outputs": [],
   "source": [
    "client = bigquery.Client(credentials = credentials, project = gbq_proj_id)"
   ]
  },
  {
   "cell_type": "code",
   "execution_count": 5,
   "id": "5e046a52",
   "metadata": {},
   "outputs": [
    {
     "name": "stdout",
     "output_type": "stream",
     "text": [
      "matts-project-363722:Matts_data2\n",
      "matts-project-363722:wedge_p\n"
     ]
    }
   ],
   "source": [
    "for item in client.list_datasets() : \n",
    "    print(item.full_dataset_id)"
   ]
  },
  {
   "cell_type": "code",
   "execution_count": 61,
   "id": "782932e5",
   "metadata": {},
   "outputs": [],
   "source": [
    "# matts-project-363722 #\n",
    "# umt-msba.transactions.transArchive_20*\n",
    "\n",
    "owners_list = []\n",
    "\n",
    "query = \"\"\"\n",
    "\n",
    "SELECT DISTINCT(card_no)\n",
    "FROM `matts-project-363722.wedge_p.transArchive_20*`\n",
    "WHERE card_no != 3\n",
    "\n",
    "\n",
    "\"\"\"\n",
    "\n",
    "#results = client.query(\n",
    "    \n",
    "    #query,\n",
    "    #location = \"US\"\n",
    "    \n",
    "#)\n",
    "\n",
    "results = client.query(query)\n",
    "\n",
    "for row in results :\n",
    "    owners_list.append(row.values()[0])"
   ]
  },
  {
   "cell_type": "code",
   "execution_count": 62,
   "id": "b3051cdf",
   "metadata": {},
   "outputs": [],
   "source": [
    "random.seed(10)\n",
    "owners_sample = random.choices(owners_list, k = 400)"
   ]
  },
  {
   "cell_type": "code",
   "execution_count": 63,
   "id": "a62d8280",
   "metadata": {},
   "outputs": [],
   "source": [
    "query = \"\"\"\n",
    "    SELECT * except(display, memtype)\n",
    "    FROM `matts-project-363722.wedge_p.transArchive_20*`\n",
    "    WHERE card_no IN ( \n",
    "\n",
    "\"\"\"\n",
    "\n",
    "query = query +\",\".join([str(element) for element in owners_sample])+\")\"\n",
    "\n",
    "# WHERE card_no IN ("
   ]
  },
  {
   "cell_type": "code",
   "execution_count": 64,
   "id": "dfee6641",
   "metadata": {},
   "outputs": [],
   "source": [
    "extracted_owners = client.query(query).to_dataframe()"
   ]
  },
  {
   "cell_type": "code",
   "execution_count": 65,
   "id": "071251ab",
   "metadata": {},
   "outputs": [],
   "source": [
    "extracted_owners.to_csv('random_owners_2.csv')"
   ]
  },
  {
   "cell_type": "code",
   "execution_count": null,
   "id": "304c32cc",
   "metadata": {},
   "outputs": [],
   "source": []
  },
  {
   "cell_type": "code",
   "execution_count": null,
   "id": "6ff59c2b",
   "metadata": {},
   "outputs": [],
   "source": []
  },
  {
   "cell_type": "code",
   "execution_count": null,
   "id": "4b9455a1",
   "metadata": {},
   "outputs": [],
   "source": [
    "df['display']= df['display'].astype(str)"
   ]
  },
  {
   "cell_type": "code",
   "execution_count": null,
   "id": "253ff947",
   "metadata": {},
   "outputs": [],
   "source": []
  },
  {
   "cell_type": "code",
   "execution_count": null,
   "id": "19cfd3ed",
   "metadata": {},
   "outputs": [],
   "source": []
  },
  {
   "cell_type": "code",
   "execution_count": null,
   "id": "d6902494",
   "metadata": {},
   "outputs": [],
   "source": []
  },
  {
   "cell_type": "code",
   "execution_count": null,
   "id": "c2c1926d",
   "metadata": {},
   "outputs": [],
   "source": []
  },
  {
   "cell_type": "code",
   "execution_count": null,
   "id": "fc2ae35b",
   "metadata": {},
   "outputs": [],
   "source": []
  },
  {
   "cell_type": "code",
   "execution_count": null,
   "id": "890569ee",
   "metadata": {},
   "outputs": [],
   "source": []
  }
 ],
 "metadata": {
  "kernelspec": {
   "display_name": "Python 3 (ipykernel)",
   "language": "python",
   "name": "python3"
  },
  "language_info": {
   "codemirror_mode": {
    "name": "ipython",
    "version": 3
   },
   "file_extension": ".py",
   "mimetype": "text/x-python",
   "name": "python",
   "nbconvert_exporter": "python",
   "pygments_lexer": "ipython3",
   "version": "3.9.12"
  }
 },
 "nbformat": 4,
 "nbformat_minor": 5
}
